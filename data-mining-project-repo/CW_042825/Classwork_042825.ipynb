{
 "cells": [
  {
   "cell_type": "code",
   "execution_count": 21,
   "metadata": {},
   "outputs": [
    {
     "name": "stdout",
     "output_type": "stream",
     "text": [
      "Accuracy from Standard 5-Fold Cross-Validation📊:\n",
      "Logistic Regression: 0.6846\n",
      "Support Vector Machine: 0.8385\n",
      "Multinomial Naive Bayes: 0.7308\n",
      "Random Forest: 0.6846\n",
      "\n",
      "Average Accuracy from Leave-One-Plot-Out (LogReg only): 0.6796\n"
     ]
    }
   ],
   "source": [
    "# === Import Libraries ===\n",
    "import pandas as pd\n",
    "from sklearn.model_selection import cross_val_score, GroupKFold\n",
    "from sklearn.feature_extraction.text import TfidfVectorizer\n",
    "from sklearn.pipeline import Pipeline\n",
    "from sklearn.linear_model import LogisticRegression\n",
    "from sklearn.svm import SVC\n",
    "from sklearn.naive_bayes import MultinomialNB\n",
    "from sklearn.ensemble import RandomForestClassifier\n",
    "from sklearn.preprocessing import LabelEncoder\n",
    "import string\n",
    "\n",
    "# === Load Dataset ===\n",
    "data_path = '/Users/omkarkalekar/Downloads/data_stories_one_shot.csv'\n",
    "data = pd.read_csv(data_path)\n",
    "\n",
    "# === Preprocess Text: Convert to lowercase and strip punctuation ===\n",
    "def clean_text(text):\n",
    "    return text.lower().translate(str.maketrans('', '', string.punctuation))\n",
    "\n",
    "data['text_clean'] = data['Sentence'].apply(clean_text)\n",
    "\n",
    "# === Generate Target Labels: 'Show' if Stage == 1, else 'Tell' ===\n",
    "data['target'] = data['Stage'].apply(lambda val: 'Show' if val == 1 else 'Tell')\n",
    "label_encoder = LabelEncoder()\n",
    "data['target_encoded'] = label_encoder.fit_transform(data['target'])\n",
    "\n",
    "# === Initialize Classifiers ===\n",
    "classifier_dict = {\n",
    "    \"Logistic Regression\": LogisticRegression(max_iter=1000),\n",
    "    \"Support Vector Machine\": SVC(kernel='linear'),\n",
    "    \"Multinomial Naive Bayes\": MultinomialNB(),\n",
    "    \"Random Forest\": RandomForestClassifier()\n",
    "}\n",
    "\n",
    "# === Evaluate Each Model Using 5-Fold Cross-Validation ===\n",
    "accuracy_scores = {}\n",
    "for clf_name, clf in classifier_dict.items():\n",
    "    model_pipeline = Pipeline([\n",
    "        ('vectorizer', TfidfVectorizer()),\n",
    "        ('model', clf)\n",
    "    ])\n",
    "    cv_scores = cross_val_score(model_pipeline, data['text_clean'], data['target_encoded'], cv=5, scoring='accuracy')\n",
    "    accuracy_scores[clf_name] = cv_scores.mean()\n",
    "\n",
    "# === Leave-One-Group-Out Cross-Validation: Based on Plot_Name ===\n",
    "group_validator = GroupKFold(n_splits=data['Plot_Name'].nunique())\n",
    "logreg_pipeline = Pipeline([\n",
    "    ('vectorizer', TfidfVectorizer()),\n",
    "    ('model', LogisticRegression(max_iter=1000))\n",
    "])\n",
    "\n",
    "group_scores = cross_val_score(\n",
    "    logreg_pipeline,\n",
    "    data['text_clean'],\n",
    "    data['target_encoded'],\n",
    "    cv=group_validator.split(data['text_clean'], data['target_encoded'], groups=data['Plot_Name'])\n",
    ")\n",
    "\n",
    "# === Print Results ===\n",
    "print(\"Accuracy from Standard 5-Fold Cross-Validation📊:\")\n",
    "for name, score in accuracy_scores.items():\n",
    "    print(f\"{name}: {score:.4f}\")\n",
    "\n",
    "print(f\"\\nAverage Accuracy from Leave-One-Plot-Out (LogReg only): {group_scores.mean():.4f}\")\n"
   ]
  },
  {
   "cell_type": "code",
   "execution_count": null,
   "metadata": {},
   "outputs": [],
   "source": []
  }
 ],
 "metadata": {
  "colab": {
   "provenance": []
  },
  "kernelspec": {
   "display_name": "Python 3 (ipykernel)",
   "language": "python",
   "name": "python3"
  },
  "language_info": {
   "codemirror_mode": {
    "name": "ipython",
    "version": 3
   },
   "file_extension": ".py",
   "mimetype": "text/x-python",
   "name": "python",
   "nbconvert_exporter": "python",
   "pygments_lexer": "ipython3",
   "version": "3.12.4"
  }
 },
 "nbformat": 4,
 "nbformat_minor": 4
}
